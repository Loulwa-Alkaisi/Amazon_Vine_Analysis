{
  "nbformat": 4,
  "nbformat_minor": 0,
  "metadata": {
    "colab": {
      "name": "Vine_Review_Analysis.ipynb",
      "provenance": []
    },
    "kernelspec": {
      "name": "python3",
      "display_name": "Python 3"
    },
    "language_info": {
      "name": "python"
    }
  },
  "cells": [
    {
      "cell_type": "code",
      "execution_count": 1,
      "metadata": {
        "colab": {
          "base_uri": "https://localhost:8080/"
        },
        "id": "J0y887G9-AoQ",
        "outputId": "323ff226-2aca-410d-a7a7-80e9c0a8514a"
      },
      "outputs": [
        {
          "output_type": "stream",
          "name": "stdout",
          "text": [
            "\r0% [Working]\r            \rIgn:1 https://developer.download.nvidia.com/compute/cuda/repos/ubuntu1804/x86_64  InRelease\n",
            "\r0% [Connecting to archive.ubuntu.com (91.189.88.152)] [Waiting for headers] [Co\r                                                                               \rGet:2 http://ppa.launchpad.net/c2d4u.team/c2d4u4.0+/ubuntu bionic InRelease [15.9 kB]\n",
            "\r0% [Connecting to archive.ubuntu.com (91.189.88.152)] [Waiting for headers] [Co\r                                                                               \rGet:3 http://security.ubuntu.com/ubuntu bionic-security InRelease [88.7 kB]\n",
            "Ign:4 https://developer.download.nvidia.com/compute/machine-learning/repos/ubuntu1804/x86_64  InRelease\n",
            "Hit:5 https://developer.download.nvidia.com/compute/cuda/repos/ubuntu1804/x86_64  Release\n",
            "Hit:6 https://developer.download.nvidia.com/compute/machine-learning/repos/ubuntu1804/x86_64  Release\n",
            "Hit:7 http://archive.ubuntu.com/ubuntu bionic InRelease\n",
            "Get:8 http://archive.ubuntu.com/ubuntu bionic-updates InRelease [88.7 kB]\n",
            "Hit:9 http://ppa.launchpad.net/cran/libgit2/ubuntu bionic InRelease\n",
            "Get:11 http://ppa.launchpad.net/deadsnakes/ppa/ubuntu bionic InRelease [15.9 kB]\n",
            "Get:12 http://archive.ubuntu.com/ubuntu bionic-backports InRelease [74.6 kB]\n",
            "Hit:14 http://ppa.launchpad.net/graphics-drivers/ppa/ubuntu bionic InRelease\n",
            "Get:15 http://ppa.launchpad.net/c2d4u.team/c2d4u4.0+/ubuntu bionic/main Sources [1,820 kB]\n",
            "Get:16 http://ppa.launchpad.net/c2d4u.team/c2d4u4.0+/ubuntu bionic/main amd64 Packages [933 kB]\n",
            "Get:17 http://security.ubuntu.com/ubuntu bionic-security/universe amd64 Packages [1,452 kB]\n",
            "Get:18 https://cloud.r-project.org/bin/linux/ubuntu bionic-cran40/ InRelease [3,626 B]\n",
            "Get:19 http://archive.ubuntu.com/ubuntu bionic-updates/universe amd64 Packages [2,230 kB]\n",
            "Get:20 http://security.ubuntu.com/ubuntu bionic-security/restricted amd64 Packages [691 kB]\n",
            "Get:21 http://security.ubuntu.com/ubuntu bionic-security/main amd64 Packages [2,461 kB]\n",
            "Get:22 http://ppa.launchpad.net/deadsnakes/ppa/ubuntu bionic/main amd64 Packages [45.9 kB]\n",
            "Get:23 http://archive.ubuntu.com/ubuntu bionic-updates/main amd64 Packages [2,898 kB]\n",
            "Get:24 http://archive.ubuntu.com/ubuntu bionic-backports/universe amd64 Packages [12.6 kB]\n",
            "Get:25 http://archive.ubuntu.com/ubuntu bionic-backports/main amd64 Packages [11.6 kB]\n",
            "Get:26 https://cloud.r-project.org/bin/linux/ubuntu bionic-cran40/ Packages [73.9 kB]\n",
            "Fetched 12.9 MB in 4s (2,990 kB/s)\n",
            "Reading package lists... Done\n"
          ]
        }
      ],
      "source": [
        "import os\n",
        "# Find the latest version of spark 3.0 from http://www.apache.org/dist/spark/ and enter as the spark version\n",
        "# For example:\n",
        "# spark_version = 'spark-3.0.3'\n",
        "spark_version = 'spark-3.0.3'\n",
        "os.environ['SPARK_VERSION']=spark_version\n",
        "\n",
        "# Install Spark and Java\n",
        "!apt-get update\n",
        "!apt-get install openjdk-11-jdk-headless -qq > /dev/null\n",
        "!wget -q https://archive.apache.org/dist/spark/spark-3.0.3/spark-3.0.3-bin-hadoop2.7.tgz\n",
        "!tar xf spark-3.0.3-bin-hadoop2.7.tgz\n",
        "!pip install -q findspark\n",
        "\n",
        "# Set Environment Variables\n",
        "import os\n",
        "os.environ[\"JAVA_HOME\"] = \"/usr/lib/jvm/java-11-openjdk-amd64\"\n",
        "os.environ[\"SPARK_HOME\"] = f\"/content/{spark_version}-bin-hadoop2.7\"\n",
        "\n",
        "# Start a SparkSession\n",
        "import findspark\n",
        "findspark.init()"
      ]
    },
    {
      "cell_type": "code",
      "source": [
        "# Download the Postgres driver that will allow Spark to interact with Postgres.\n",
        "!wget https://jdbc.postgresql.org/download/postgresql-42.2.16.jar"
      ],
      "metadata": {
        "colab": {
          "base_uri": "https://localhost:8080/"
        },
        "id": "xUj2qBj1-HLr",
        "outputId": "c5c9084e-61d7-4fa7-eee7-e5a71d94d3b8"
      },
      "execution_count": 2,
      "outputs": [
        {
          "output_type": "stream",
          "name": "stdout",
          "text": [
            "--2021-12-17 02:11:50--  https://jdbc.postgresql.org/download/postgresql-42.2.16.jar\n",
            "Resolving jdbc.postgresql.org (jdbc.postgresql.org)... 72.32.157.228, 2001:4800:3e1:1::228\n",
            "Connecting to jdbc.postgresql.org (jdbc.postgresql.org)|72.32.157.228|:443... connected.\n",
            "HTTP request sent, awaiting response... 200 OK\n",
            "Length: 1002883 (979K) [application/java-archive]\n",
            "Saving to: ‘postgresql-42.2.16.jar.1’\n",
            "\n",
            "postgresql-42.2.16. 100%[===================>] 979.38K  --.-KB/s    in 0.09s   \n",
            "\n",
            "2021-12-17 02:11:50 (11.2 MB/s) - ‘postgresql-42.2.16.jar.1’ saved [1002883/1002883]\n",
            "\n"
          ]
        }
      ]
    },
    {
      "cell_type": "code",
      "source": [
        "# Start Spark session\n",
        "from pyspark.sql import SparkSession\n",
        "spark = SparkSession.builder.appName(\"Vine_Review_Analysis\").getOrCreate()\n"
      ],
      "metadata": {
        "id": "B5T1-2j-J_Q9"
      },
      "execution_count": 4,
      "outputs": []
    },
    {
      "cell_type": "code",
      "source": [
        "from pyspark import SparkFiles\n",
        "url = \"https://s3.amazonaws.com/amazon-reviews-pds/tsv/amazon_reviews_us_Software_v1_00.tsv.gz\" \n",
        "spark.sparkContext.addFile(url)\n",
        "df = spark.read.option(\"encoding\", \"UTF-8\").csv(SparkFiles.get(\"\"), sep=\"\\t\", header=True, inferSchema=True)\n",
        "df.show()"
      ],
      "metadata": {
        "colab": {
          "base_uri": "https://localhost:8080/"
        },
        "id": "GcIugbbTKu8H",
        "outputId": "2b9ade0e-14ab-4146-cc8b-1c51d9981767"
      },
      "execution_count": 5,
      "outputs": [
        {
          "output_type": "stream",
          "name": "stdout",
          "text": [
            "+-----------+-----------+--------------+----------+--------------+--------------------+----------------+-----------+-------------+-----------+----+-----------------+--------------------+--------------------+-----------+\n",
            "|marketplace|customer_id|     review_id|product_id|product_parent|       product_title|product_category|star_rating|helpful_votes|total_votes|vine|verified_purchase|     review_headline|         review_body|review_date|\n",
            "+-----------+-----------+--------------+----------+--------------+--------------------+----------------+-----------+-------------+-----------+----+-----------------+--------------------+--------------------+-----------+\n",
            "|         US|   42605767|R3EFW2STIYIY0I|B00MUTIDKI|     248732228|McAfee 2015 Inter...|        Software|          1|            2|          2|   N|                Y|I was very disapp...|I was very disapp...| 2015-08-31|\n",
            "|         US|   51771800|R12NR0R5A9F7FT|B00EPACNUG|     531462352|Hallmark Card Stu...|        Software|          5|            0|          0|   N|                Y|          Five Stars|I had a little st...| 2015-08-31|\n",
            "|         US|   16053526|R1LSH74R9XAP59|B00164AZA4|     473982505| Search and Rescue 4|        Software|          2|            0|          1|   N|                Y|    Have windows 10?|Tried to download...| 2015-08-31|\n",
            "|         US|   15319481|R1QXUNTF76K7L6|B00E6LIEFM|     189774198|      Quickbooks Pro|        Software|          2|            0|          0|   N|                Y|Disc was corrupt,...|Disc was corrupt,...| 2015-08-31|\n",
            "|         US|    1441820|R2F7DR75PS8NKT|B00VWEBG06|     852470365|Windows 7 Profess...|        Software|          5|            0|          0|   N|                Y|          Five Stars|Just what I neede...| 2015-08-31|\n",
            "|         US|   37107850|R2C1DJSCC8UFS6|B00EP7AP7C|     279360628|Family Tree Maker...|        Software|          3|            0|          0|   N|                Y|         Three Stars|Didn't like havin...| 2015-08-31|\n",
            "|         US|     302120|R1AXGS1W4YFXMX|B00OW2PET4|     729971168|World of Farming:...|        Software|          1|            0|          2|   N|                Y|            One Star|it does not work ...| 2015-08-31|\n",
            "|         US|   20193077|R1XU1B93402SYJ|B00N4OLCRO|     776572654|Photoshop Element...|        Software|          1|            1|          1|   N|                Y|Can't load to my ...|I have tried for ...| 2015-08-31|\n",
            "|         US|   13106017|R2U432NB3OPVR0|B005CELN8W|     222071424|Phantom EFX WMS S...|        Software|          5|            0|          0|   N|                Y|          Five Stars|       love the game| 2015-08-31|\n",
            "|         US|   32587108|R3R6FIMIOQ5SP9|B005CELL1G|     168801430|PaperPort Profess...|        Software|          5|            0|          0|   N|                Y|Meets our small b...|Great software. A...| 2015-08-31|\n",
            "|         US|   32020017|R12TX6V09C9QNQ|B00H09BOXQ|     455502995|Windows 7 Profess...|        Software|          5|            0|          0|   N|                Y|          Five Stars|             Awesome| 2015-08-31|\n",
            "|         US|   13376158|R33UCII6YKUMKV|B00MCLGAAO|     652069521| QuickBooks Pro 2015|        Software|          3|            2|          2|   N|                Y|Nothing New in Th...|To start this rev...| 2015-08-31|\n",
            "|         US|   47098110| RZKDAB9TGO053|B00P6U8C5Y|     871602905|Block Financial H...|        Software|          1|            0|          0|   N|                Y|Missing key infor...|Some key provisio...| 2015-08-31|\n",
            "|         US|   24083274|R2EMN2EEDN73ZA|B00MA5TPN6|     299038085|Parallels Desktop...|        Software|          4|            0|          0|   N|                Y|Probably the best...|Probably the best...| 2015-08-31|\n",
            "|         US|   41137196| RU9LHN1NJDVOI|B000EQ868I|     534229510|Cosmi Print Perfe...|        Software|          5|            0|          0|   N|                Y|          Five Stars|I was pleased wit...| 2015-08-31|\n",
            "|         US|   18003829|R19910SO17BQUE|B00MYXTCMI|      42668324|TurboTax Business...|        Software|          5|            0|          0|   N|                Y|... what it is su...|This program does...| 2015-08-31|\n",
            "|         US|   14460749|R32N10BW8MH847|B008PIQXP0|     116724371|I.R.I.S. Readiris...|        Software|          4|            2|          4|   N|                Y|          Four Stars|Again it should h...| 2015-08-31|\n",
            "|         US|   12641855| R2DNM85DH7FGK|B00KAFOXXU|     471261945|Finale PrintMusic...|        Software|          5|            0|          2|   N|                Y|          Five Stars|               great| 2015-08-31|\n",
            "|         US|   13775565|R2G9RFFW051RWY|B00OKSOLE4|     694520847|Microsoft Office ...|        Software|          5|            0|          0|   N|                Y|          Five Stars|        Easy to use.| 2015-08-31|\n",
            "|         US|   31044774|R26CC1STPSUHBS|B01019T6O0|     510976915|Microsoft Windows...|        Software|          1|           27|         39|   N|                N|Do NOT take the \"...|Do NOT take the &...| 2015-08-31|\n",
            "+-----------+-----------+--------------+----------+--------------+--------------------+----------------+-----------+-------------+-----------+----+-----------------+--------------------+--------------------+-----------+\n",
            "only showing top 20 rows\n",
            "\n"
          ]
        }
      ]
    },
    {
      "cell_type": "code",
      "source": [
        "dropna_df = df.dropna()"
      ],
      "metadata": {
        "id": "7T0MK4VDPO3G"
      },
      "execution_count": 6,
      "outputs": []
    },
    {
      "cell_type": "code",
      "source": [
        "vine_df = dropna_df.select(['review_id', 'star_rating','helpful_votes','total_votes','vine','verified_purchase']).drop_duplicates()\n",
        "vine_df.show()"
      ],
      "metadata": {
        "colab": {
          "base_uri": "https://localhost:8080/"
        },
        "id": "eP_zHUu7PGuv",
        "outputId": "819e18f2-7169-4432-b22e-fec8534a46d1"
      },
      "execution_count": 7,
      "outputs": [
        {
          "output_type": "stream",
          "name": "stdout",
          "text": [
            "+--------------+-----------+-------------+-----------+----+-----------------+\n",
            "|     review_id|star_rating|helpful_votes|total_votes|vine|verified_purchase|\n",
            "+--------------+-----------+-------------+-----------+----+-----------------+\n",
            "|R2F7DR75PS8NKT|          5|            0|          0|   N|                Y|\n",
            "|R3F8SH5XNMIYIH|          4|            0|          0|   N|                Y|\n",
            "| R5L0WP3MZVTM8|          4|            0|          0|   N|                Y|\n",
            "|R3UWNSUI0S5571|          1|            1|          2|   N|                Y|\n",
            "| RD4048QLYIB8Y|          5|            1|          2|   N|                N|\n",
            "|R138WLFRO0RAZS|          5|            0|          0|   N|                Y|\n",
            "|R3LTBVRHLYAJWT|          5|            0|          0|   N|                Y|\n",
            "|R1YAQ9K1ARUYY3|          5|            1|          1|   N|                Y|\n",
            "|R123ZJH7X500FY|          3|            1|          2|   N|                Y|\n",
            "|R3TUJRPUVB38KJ|          5|            0|          0|   N|                Y|\n",
            "| RU4EHAI6OJYT8|          5|            0|          1|   N|                Y|\n",
            "|R1E0HGXNTRDA20|          5|            4|          4|   N|                Y|\n",
            "|R1DYIPZS9PVY1E|          5|            0|          0|   N|                Y|\n",
            "|R2XRE5PZ66QCLX|          4|            0|          0|   N|                Y|\n",
            "|R1QM7VE1S1HRTB|          4|            1|          1|   N|                Y|\n",
            "|R1YBQ9K3OVCHO4|          1|            1|          2|   N|                Y|\n",
            "|R2UZRJQ3YX14ZA|          5|            0|          1|   N|                Y|\n",
            "| RBM0G9QV8IOLC|          3|            1|          1|   N|                Y|\n",
            "|R174ALM34W347N|          2|            0|          0|   N|                Y|\n",
            "|R3TYAQ5VW390D3|          5|            0|          2|   N|                Y|\n",
            "+--------------+-----------+-------------+-----------+----+-----------------+\n",
            "only showing top 20 rows\n",
            "\n"
          ]
        }
      ]
    },
    {
      "cell_type": "code",
      "source": [
        "# filter for only columns with 20 or more total votes \n",
        "cleaned_vine_df = vine_df.filter('total_votes>=20')\n",
        "cleaned_vine_df.show(truncate=False)"
      ],
      "metadata": {
        "colab": {
          "base_uri": "https://localhost:8080/"
        },
        "id": "MROvKQtBPYYz",
        "outputId": "48c2a744-a7a5-497f-9cea-62109a52710a"
      },
      "execution_count": 8,
      "outputs": [
        {
          "output_type": "stream",
          "name": "stdout",
          "text": [
            "+--------------+-----------+-------------+-----------+----+-----------------+\n",
            "|review_id     |star_rating|helpful_votes|total_votes|vine|verified_purchase|\n",
            "+--------------+-----------+-------------+-----------+----+-----------------+\n",
            "|R1PXUULGJ2ARI8|3          |20           |20         |N   |Y                |\n",
            "|RNPOC061DM6SO |1          |90           |96         |N   |N                |\n",
            "|R23Z76M6ND53B4|1          |32           |36         |N   |Y                |\n",
            "|R1ZUH17F66XJUY|1          |26           |26         |N   |N                |\n",
            "|R34DIXDQ7DHDVP|1          |28           |29         |N   |N                |\n",
            "|R3398IB5T7BMCJ|1          |59           |66         |N   |N                |\n",
            "|R1E44NTT2LX0F8|1          |5            |23         |N   |Y                |\n",
            "|R378MR60AUHX09|2          |19           |21         |N   |Y                |\n",
            "|R1EUBPUEIXIDP6|3          |44           |51         |N   |Y                |\n",
            "|R137E1FON7IRZS|1          |18           |22         |N   |N                |\n",
            "|R16URZ3CZI1GWV|1          |8            |27         |N   |Y                |\n",
            "|RE1E7SYQDI27W |1          |25           |35         |N   |N                |\n",
            "|RW5VVLEG9IFIE |4          |405          |417        |Y   |N                |\n",
            "|R4E5V1214NRJ6 |5          |10           |20         |N   |N                |\n",
            "|R35CGZH7P5O1IE|1          |11           |26         |N   |Y                |\n",
            "|R3T10P0UDVAVKD|5          |22           |61         |N   |N                |\n",
            "|R1XYT9KRDKCIFU|5          |30           |38         |N   |N                |\n",
            "|R337EJJJC3BQ8B|5          |21           |22         |N   |N                |\n",
            "|R1P8CZK6QZBCYW|1          |29           |42         |N   |Y                |\n",
            "|ROLH1HRMZ62TA |4          |29           |32         |N   |Y                |\n",
            "+--------------+-----------+-------------+-----------+----+-----------------+\n",
            "only showing top 20 rows\n",
            "\n"
          ]
        }
      ]
    },
    {
      "cell_type": "code",
      "source": [
        "# filter for only columns with mostly helpful votes\n",
        "helpful_vine_df = cleaned_vine_df.filter(\"helpful_votes/total_votes>=0.5\")\n",
        "helpful_vine_df.show()"
      ],
      "metadata": {
        "colab": {
          "base_uri": "https://localhost:8080/"
        },
        "id": "MAt9Jr4ZPeHl",
        "outputId": "70688c4b-e45b-43e1-8c0b-8625578ebea1"
      },
      "execution_count": 9,
      "outputs": [
        {
          "output_type": "stream",
          "name": "stdout",
          "text": [
            "+--------------+-----------+-------------+-----------+----+-----------------+\n",
            "|     review_id|star_rating|helpful_votes|total_votes|vine|verified_purchase|\n",
            "+--------------+-----------+-------------+-----------+----+-----------------+\n",
            "|R1PXUULGJ2ARI8|          3|           20|         20|   N|                Y|\n",
            "| RNPOC061DM6SO|          1|           90|         96|   N|                N|\n",
            "|R23Z76M6ND53B4|          1|           32|         36|   N|                Y|\n",
            "|R1ZUH17F66XJUY|          1|           26|         26|   N|                N|\n",
            "|R34DIXDQ7DHDVP|          1|           28|         29|   N|                N|\n",
            "|R3398IB5T7BMCJ|          1|           59|         66|   N|                N|\n",
            "|R378MR60AUHX09|          2|           19|         21|   N|                Y|\n",
            "|R1EUBPUEIXIDP6|          3|           44|         51|   N|                Y|\n",
            "|R137E1FON7IRZS|          1|           18|         22|   N|                N|\n",
            "| RE1E7SYQDI27W|          1|           25|         35|   N|                N|\n",
            "| RW5VVLEG9IFIE|          4|          405|        417|   Y|                N|\n",
            "| R4E5V1214NRJ6|          5|           10|         20|   N|                N|\n",
            "|R1XYT9KRDKCIFU|          5|           30|         38|   N|                N|\n",
            "|R337EJJJC3BQ8B|          5|           21|         22|   N|                N|\n",
            "|R1P8CZK6QZBCYW|          1|           29|         42|   N|                Y|\n",
            "| ROLH1HRMZ62TA|          4|           29|         32|   N|                Y|\n",
            "|R3CJ4AYYPKPKMB|          1|           20|         32|   N|                Y|\n",
            "| RNVUZ44TNGBN8|          1|           21|         28|   N|                Y|\n",
            "|R1HTGQ5A201OTC|          5|           79|         83|   N|                N|\n",
            "|R3P3YP044IV2FJ|          4|           32|         33|   N|                Y|\n",
            "+--------------+-----------+-------------+-----------+----+-----------------+\n",
            "only showing top 20 rows\n",
            "\n"
          ]
        }
      ]
    },
    {
      "cell_type": "code",
      "source": [
        "# load in a sql function to use columns \n",
        "from pyspark.sql.functions import col\n",
        "\n",
        "# Filter last DF to only columns with vine == \"Y\" (Paid)\n",
        "helpful_vine_y_df = helpful_vine_df.filter(col(\"vine\") == \"Y\")\n",
        "helpful_vine_y_df.show()"
      ],
      "metadata": {
        "colab": {
          "base_uri": "https://localhost:8080/"
        },
        "id": "uNS2nLDEPkm-",
        "outputId": "eecf33a4-a09a-4f05-cccd-d293586824ba"
      },
      "execution_count": 10,
      "outputs": [
        {
          "output_type": "stream",
          "name": "stdout",
          "text": [
            "+--------------+-----------+-------------+-----------+----+-----------------+\n",
            "|     review_id|star_rating|helpful_votes|total_votes|vine|verified_purchase|\n",
            "+--------------+-----------+-------------+-----------+----+-----------------+\n",
            "| RW5VVLEG9IFIE|          4|          405|        417|   Y|                N|\n",
            "|R19S7KGPJBQIH5|          4|           31|         35|   Y|                N|\n",
            "|R1TOMANDNY482H|          5|           24|         25|   Y|                N|\n",
            "|R2GSZW8LSS382H|          5|           17|         20|   Y|                N|\n",
            "|R1LP86XHXKHB6T|          4|           39|         40|   Y|                N|\n",
            "|R3PIUKLIZC0K2F|          1|           69|         80|   Y|                N|\n",
            "| RSOU9400W0W5G|          3|           15|         23|   Y|                N|\n",
            "|R2WNA0FQAHFXKJ|          3|           61|         63|   Y|                N|\n",
            "|R3TYODQJ379ONQ|          3|           20|         20|   Y|                N|\n",
            "| RH9EI8TTHE45W|          5|           28|         31|   Y|                N|\n",
            "|R27F6T0G4QOW9U|          1|           60|         64|   Y|                N|\n",
            "|R1HP4C1H3DGC85|          5|           24|         24|   Y|                N|\n",
            "| RX3GK782SCGLN|          3|           26|         27|   Y|                N|\n",
            "|R3CXH14QMPTDXI|          2|           33|         33|   Y|                N|\n",
            "|R3VJAEYZR0D8Q7|          5|           20|         21|   Y|                N|\n",
            "|R2A8HT3QTAQA3J|          3|           21|         22|   Y|                N|\n",
            "|R2CGILMX763ZWG|          5|           22|         22|   Y|                N|\n",
            "| RA5H9TPA31TOQ|          4|           58|         59|   Y|                N|\n",
            "| RX4E94KN6K16U|          5|           56|         59|   Y|                N|\n",
            "|R1GRNLMBP4CC02|          4|           23|         26|   Y|                N|\n",
            "+--------------+-----------+-------------+-----------+----+-----------------+\n",
            "only showing top 20 rows\n",
            "\n"
          ]
        }
      ]
    },
    {
      "cell_type": "code",
      "source": [
        "# Filter last DF to only columns with vine == \"N\" (Unpaid)\n",
        "helpful_vine_n_df = helpful_vine_df.filter(col(\"vine\") == \"N\")\n",
        "helpful_vine_n_df.show()"
      ],
      "metadata": {
        "colab": {
          "base_uri": "https://localhost:8080/"
        },
        "id": "IHiBywPfPr3x",
        "outputId": "ee16d376-4f14-48fa-8add-9cc98eaa20f6"
      },
      "execution_count": 11,
      "outputs": [
        {
          "output_type": "stream",
          "name": "stdout",
          "text": [
            "+--------------+-----------+-------------+-----------+----+-----------------+\n",
            "|     review_id|star_rating|helpful_votes|total_votes|vine|verified_purchase|\n",
            "+--------------+-----------+-------------+-----------+----+-----------------+\n",
            "|R1PXUULGJ2ARI8|          3|           20|         20|   N|                Y|\n",
            "| RNPOC061DM6SO|          1|           90|         96|   N|                N|\n",
            "|R23Z76M6ND53B4|          1|           32|         36|   N|                Y|\n",
            "|R1ZUH17F66XJUY|          1|           26|         26|   N|                N|\n",
            "|R34DIXDQ7DHDVP|          1|           28|         29|   N|                N|\n",
            "|R3398IB5T7BMCJ|          1|           59|         66|   N|                N|\n",
            "|R378MR60AUHX09|          2|           19|         21|   N|                Y|\n",
            "|R1EUBPUEIXIDP6|          3|           44|         51|   N|                Y|\n",
            "|R137E1FON7IRZS|          1|           18|         22|   N|                N|\n",
            "| RE1E7SYQDI27W|          1|           25|         35|   N|                N|\n",
            "| R4E5V1214NRJ6|          5|           10|         20|   N|                N|\n",
            "|R1XYT9KRDKCIFU|          5|           30|         38|   N|                N|\n",
            "|R337EJJJC3BQ8B|          5|           21|         22|   N|                N|\n",
            "|R1P8CZK6QZBCYW|          1|           29|         42|   N|                Y|\n",
            "| ROLH1HRMZ62TA|          4|           29|         32|   N|                Y|\n",
            "|R3CJ4AYYPKPKMB|          1|           20|         32|   N|                Y|\n",
            "| RNVUZ44TNGBN8|          1|           21|         28|   N|                Y|\n",
            "|R1HTGQ5A201OTC|          5|           79|         83|   N|                N|\n",
            "|R3P3YP044IV2FJ|          4|           32|         33|   N|                Y|\n",
            "| RQLBR1OBTHHVD|          1|           71|        102|   N|                N|\n",
            "+--------------+-----------+-------------+-----------+----+-----------------+\n",
            "only showing top 20 rows\n",
            "\n"
          ]
        }
      ]
    },
    {
      "cell_type": "code",
      "source": [
        "# Determine total number of reviews\n",
        "helpful_vine_df.count()"
      ],
      "metadata": {
        "colab": {
          "base_uri": "https://localhost:8080/"
        },
        "id": "951MWq8uPxCf",
        "outputId": "61ddde62-2ac4-4d6f-872d-e7cde1ddc2ee"
      },
      "execution_count": 12,
      "outputs": [
        {
          "output_type": "execute_result",
          "data": {
            "text/plain": [
              "17761"
            ]
          },
          "metadata": {},
          "execution_count": 12
        }
      ]
    },
    {
      "cell_type": "code",
      "source": [
        "# Determine total number of paid reviews\n",
        "helpful_vine_y_df.count()"
      ],
      "metadata": {
        "colab": {
          "base_uri": "https://localhost:8080/"
        },
        "id": "ucG8P708P34r",
        "outputId": "d6dc4bdc-f5b7-481a-cd8d-289d83a46ed3"
      },
      "execution_count": 13,
      "outputs": [
        {
          "output_type": "execute_result",
          "data": {
            "text/plain": [
              "248"
            ]
          },
          "metadata": {},
          "execution_count": 13
        }
      ]
    },
    {
      "cell_type": "code",
      "source": [
        "# Determine total number of unpaid reviews\n",
        "helpful_vine_n_df.count()"
      ],
      "metadata": {
        "colab": {
          "base_uri": "https://localhost:8080/"
        },
        "id": "sNRbi3ZrP4DH",
        "outputId": "db9d6825-d835-46a3-fc48-8bfaa68eb654"
      },
      "execution_count": 14,
      "outputs": [
        {
          "output_type": "execute_result",
          "data": {
            "text/plain": [
              "17513"
            ]
          },
          "metadata": {},
          "execution_count": 14
        }
      ]
    },
    {
      "cell_type": "code",
      "source": [
        "# Determine number of 5-star reviews\n",
        "helpful_vine_df.filter(col(\"star_rating\") == 5).count()"
      ],
      "metadata": {
        "colab": {
          "base_uri": "https://localhost:8080/"
        },
        "id": "GfVBAdCpP4Iv",
        "outputId": "4787024e-3a51-4932-e612-e5a74638ddf7"
      },
      "execution_count": 15,
      "outputs": [
        {
          "output_type": "execute_result",
          "data": {
            "text/plain": [
              "5255"
            ]
          },
          "metadata": {},
          "execution_count": 15
        }
      ]
    },
    {
      "cell_type": "code",
      "source": [
        "# Determine number of 5-star paid reviews\n",
        "helpful_vine_y_df.filter(col(\"star_rating\") == 5).count()"
      ],
      "metadata": {
        "colab": {
          "base_uri": "https://localhost:8080/"
        },
        "id": "1siCnNByP4QT",
        "outputId": "a43d0b24-fbfc-4ca2-9733-276a01d18fdb"
      },
      "execution_count": 16,
      "outputs": [
        {
          "output_type": "execute_result",
          "data": {
            "text/plain": [
              "102"
            ]
          },
          "metadata": {},
          "execution_count": 16
        }
      ]
    },
    {
      "cell_type": "code",
      "source": [
        "# Determine number of 5-star unpaid reviews\n",
        "helpful_vine_n_df.filter(col(\"star_rating\") == 5).count()"
      ],
      "metadata": {
        "colab": {
          "base_uri": "https://localhost:8080/"
        },
        "id": "E_Sg82u5P4Vn",
        "outputId": "433a94f4-c23b-49a2-d65f-6a33e6eafb75"
      },
      "execution_count": 17,
      "outputs": [
        {
          "output_type": "execute_result",
          "data": {
            "text/plain": [
              "5153"
            ]
          },
          "metadata": {},
          "execution_count": 17
        }
      ]
    },
    {
      "cell_type": "code",
      "source": [
        "# Determine percentage of 5-star paid reviews\n",
        "a = helpful_vine_y_df.count()\n",
        "b = helpful_vine_y_df.filter(col(\"star_rating\") == 5).count()\n",
        "percantage_paid = b/a * 100\n",
        "print(round(percantage_paid,2))"
      ],
      "metadata": {
        "colab": {
          "base_uri": "https://localhost:8080/"
        },
        "id": "EHik5JMCQF3i",
        "outputId": "9e8bac79-06aa-48c1-af02-a8a320ea1185"
      },
      "execution_count": 20,
      "outputs": [
        {
          "output_type": "stream",
          "name": "stdout",
          "text": [
            "41.13\n"
          ]
        }
      ]
    },
    {
      "cell_type": "code",
      "source": [
        "# Determine percentage of 5-star unpaid reviews\n",
        "c = helpful_vine_n_df.count()\n",
        "d = helpful_vine_n_df.filter(col(\"star_rating\") == 5).count()\n",
        "percentage_unpaid = d/c * 100\n",
        "print(round(percentage_unpaid,2))"
      ],
      "metadata": {
        "colab": {
          "base_uri": "https://localhost:8080/"
        },
        "id": "vD1C9FABQJmp",
        "outputId": "935941ff-2848-4b0c-e471-4201f5d80d71"
      },
      "execution_count": 21,
      "outputs": [
        {
          "output_type": "stream",
          "name": "stdout",
          "text": [
            "29.42\n"
          ]
        }
      ]
    }
  ]
}